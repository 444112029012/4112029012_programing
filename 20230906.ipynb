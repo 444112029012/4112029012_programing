{
  "nbformat": 4,
  "nbformat_minor": 0,
  "metadata": {
    "colab": {
      "provenance": []
    },
    "kernelspec": {
      "name": "python3",
      "display_name": "Python 3"
    },
    "language_info": {
      "name": "python"
    }
  },
  "cells": [
    {
      "cell_type": "code",
      "execution_count": 1,
      "metadata": {
        "colab": {
          "base_uri": "https://localhost:8080/"
        },
        "id": "0s4k9hxKK736",
        "outputId": "77ba0114-45ec-43d7-9429-59e5ded6bc00"
      },
      "outputs": [
        {
          "output_type": "stream",
          "name": "stdout",
          "text": [
            "Helo,World\n"
          ]
        }
      ],
      "source": [
        "print(\"Helo,World\")"
      ]
    },
    {
      "cell_type": "code",
      "source": [
        "a = int(input(\"體重:\"))\n",
        "b = int(input(\"身高:\"))/100\n",
        "c = a/(b**2)\n",
        "print(\"BMI是\" + \"%.2f\"%c)"
      ],
      "metadata": {
        "colab": {
          "base_uri": "https://localhost:8080/"
        },
        "id": "STk6BpIgL2kQ",
        "outputId": "c71dcea5-a35b-43b4-e74e-38abb6ea6d1b"
      },
      "execution_count": 3,
      "outputs": [
        {
          "output_type": "stream",
          "name": "stdout",
          "text": [
            "體重:60\n",
            "身高:170\n",
            "BMI是20.76\n"
          ]
        }
      ]
    },
    {
      "cell_type": "code",
      "source": [
        "a = int(input(\"體重:\"))\n",
        "b = int(input(\"身高:\"))/100\n",
        "def bmi(a,b):\n",
        "    c = a/(b**2)\n",
        "    print(\"BMI是\" + \"%.2f\"%c)\n",
        "bmi(a,b)"
      ],
      "metadata": {
        "colab": {
          "base_uri": "https://localhost:8080/"
        },
        "id": "lbbCQze-a1FN",
        "outputId": "c99a3c21-e0a1-42e9-a824-97a4d345aeae"
      },
      "execution_count": 7,
      "outputs": [
        {
          "output_type": "stream",
          "name": "stdout",
          "text": [
            "體重:60\n",
            "身高:170\n",
            "BMI是20.76\n"
          ]
        }
      ]
    },
    {
      "cell_type": "code",
      "source": [],
      "metadata": {
        "id": "BMcTVo-kcq2R"
      },
      "execution_count": null,
      "outputs": []
    }
  ]
}