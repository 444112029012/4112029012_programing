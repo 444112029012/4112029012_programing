{
  "nbformat": 4,
  "nbformat_minor": 0,
  "metadata": {
    "colab": {
      "provenance": []
    },
    "kernelspec": {
      "name": "python3",
      "display_name": "Python 3"
    },
    "language_info": {
      "name": "python"
    }
  },
  "cells": [
    {
      "cell_type": "code",
      "execution_count": 21,
      "metadata": {
        "colab": {
          "base_uri": "https://localhost:8080/"
        },
        "id": "3xc-SertH0_n",
        "outputId": "6cfe97a9-ea68-4527-960c-c804cae6166f"
      },
      "outputs": [
        {
          "output_type": "stream",
          "name": "stdout",
          "text": [
            "變數x的值是:5\n",
            "ip:134607297757552\n"
          ]
        }
      ],
      "source": [
        "x = 5\n",
        "print(f\"變數x的值是:{x}\")\n",
        "print(f\"ip:{id(x)}\")"
      ]
    },
    {
      "cell_type": "code",
      "source": [],
      "metadata": {
        "id": "y3wOSnlDRi4b"
      },
      "execution_count": null,
      "outputs": []
    }
  ]
}